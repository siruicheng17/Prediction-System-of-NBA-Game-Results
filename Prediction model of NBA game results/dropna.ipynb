{
 "cells": [
  {
   "cell_type": "code",
   "execution_count": 3,
   "id": "05208a7b",
   "metadata": {},
   "outputs": [],
   "source": [
    "import os\n",
    "import pandas as pd"
   ]
  },
  {
   "cell_type": "code",
   "execution_count": 4,
   "id": "a88572f5",
   "metadata": {},
   "outputs": [
    {
     "name": "stdout",
     "output_type": "stream",
     "text": [
      "admiralelite15.csv\n",
      "AnferneeSimons.csv\n",
      "BenSimmons25.csv\n",
      "bobbysimmons21.csv\n",
      "Bobby_Sacre.csv\n",
      "CollinSexton02.csv\n",
      "dariosaric.csv\n",
      "DennisMike93.csv\n",
      "Dsabonis11.csv\n",
      "EdmondSumner.csv\n",
      "french_savage.csv\n",
      "imanshumpert.csv\n",
      "Jared_Sully0.csv\n",
      "JarnellStokes.csv\n",
      "jayscrubb.csv\n",
      "JordanKobi.csv\n",
      "KarrSampson14.csv\n",
      "l8show_thegoat.csv\n",
      "landryshamet.csv\n",
      "LScola4.csv\n",
      "MarialShayok.csv\n",
      "mikescott.csv\n",
      "pskills43.csv\n",
      "SamanicLuka.csv\n",
      "satoransky.csv\n",
      "SessionsRamon.csv\n",
      "SilvaObame.csv\n",
      "ThaboSefolosha.csv\n",
      "ThaRealJsimms.csv\n",
      "TokoShengelia23.csv\n",
      "WayneSeldenJr.csv\n",
      "done\n"
     ]
    }
   ],
   "source": [
    "rootdir = 'D:\\players\\pre'\n",
    "list1 = os.listdir(rootdir)  # Lists all directories and files under the folder.\n",
    "for i in range(0, len(list1)):\n",
    "    path = os.path.join(rootdir, list1[i])\n",
    "    df=pd.read_csv(path)\n",
    "    df=df.dropna(subset=['G'])\n",
    "    print(list1[i])\n",
    "    df.to_csv('D:\\\\players\\\\ing\\\\'+list1[i])\n",
    "print('done')"
   ]
  },
  {
   "cell_type": "code",
   "execution_count": null,
   "id": "fa9a28d2",
   "metadata": {},
   "outputs": [],
   "source": []
  }
 ],
 "metadata": {
  "kernelspec": {
   "display_name": "Python 3 (ipykernel)",
   "language": "python",
   "name": "python3"
  },
  "language_info": {
   "codemirror_mode": {
    "name": "ipython",
    "version": 3
   },
   "file_extension": ".py",
   "mimetype": "text/x-python",
   "name": "python",
   "nbconvert_exporter": "python",
   "pygments_lexer": "ipython3",
   "version": "3.9.0"
  }
 },
 "nbformat": 4,
 "nbformat_minor": 5
}
